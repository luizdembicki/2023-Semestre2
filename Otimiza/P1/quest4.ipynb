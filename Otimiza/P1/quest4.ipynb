{
 "cells": [
  {
   "cell_type": "code",
   "execution_count": 1,
   "metadata": {},
   "outputs": [
    {
     "name": "stdout",
     "output_type": "stream",
     "text": [
      "A:16.54545 B:9.45455, Lucro: -7587.27273\n",
      "A:17.0 B:9.0, Lucro: -7360.0\n"
     ]
    }
   ],
   "source": [
    "from scipy.optimize import linprog\n",
    "\n",
    "# a) \n",
    "# Digitos GRR\n",
    "X = 6\n",
    "Y = 4\n",
    "Z = 1\n",
    "\n",
    "PC = 2100 + (Z * 10) # Preco de venda de C por tonelada em reais\n",
    "# Funcao objetivo\n",
    "Fobj = (- PC + 2000, - PC + 1500) # Custos e preco de venda\n",
    "# Inequacoes\n",
    "# lado direito\n",
    "LD = [[-0.04, 0.07], # inequacao 1 Carbono -4% * x + 7% * y <= 0 \n",
    "      [-0.005, 0.005], # inequacao 2 Enxofre -0.5% * x + 0.5% * y <= 0\n",
    "      [-0.03, Y * 1e-2], # inequacao 3 cinzas -3% * x + Y% * y <= 0\n",
    "      [1, 1]] # inequacao 4 demanda - x - y <= - 20 - X  \n",
    "# lado esquerdo\n",
    "LE = [0, # inequacao 1 Carbono -4% * x + 7% * y <= 0 \n",
    "      0, # inequacao 2 Enxofre -0.5% * x + 0.5% * y <= 0 \n",
    "      0, # inequacao 3 cinzas -3% * x + Y% * y <= 0\n",
    "      20 + X] # inequacao 4 demanda  - x - y <= - 20 - X\n",
    "# Optimizacao por Simplex ++ \n",
    "opt = linprog(c = Fobj, A_ub = LD, b_ub = LE)\n",
    "print(f\"A:{opt.x[0]:.5f} B:{opt.x[1]:.5f}, Lucro: {opt.fun:.5f}\")\n",
    "opt = linprog(c = Fobj, A_ub = LD, b_ub = LE, integrality = 1)\n",
    "print(f\"A:{opt.x[0]} B:{opt.x[1]}, Lucro: {opt.fun}\")"
   ]
  },
  {
   "cell_type": "code",
   "execution_count": 2,
   "metadata": {},
   "outputs": [
    {
     "name": "stdout",
     "output_type": "stream",
     "text": [
      "Status: Optimal\n",
      "A = 5000.0\n",
      "B = 16.0\n",
      "C = 605.0\n",
      "C1 = 121.0\n",
      "C2 = 2000.0\n",
      "C3 = 2500.0\n",
      "C4 = 1000.0\n",
      "lucro total =  6935.5\n"
     ]
    }
   ],
   "source": [
    "import pulp\n",
    "# b)\n",
    "# problema\n",
    "lucro = pulp.LpProblem(\"lucro\", pulp.LpMinimize)\n",
    "# Variaveis\n",
    "C1 = pulp.LpVariable(\"C1\", 0, 3000, pulp.LpInteger)\n",
    "C2 = pulp.LpVariable(\"C2\", 0, 2000, pulp.LpInteger)\n",
    "C3 = pulp.LpVariable(\"C3\", 0, 4000, pulp.LpInteger)\n",
    "C4 = pulp.LpVariable(\"C4\", 0, 1000, pulp.LpInteger)\n",
    "A = pulp.LpVariable(\"A\", 0, cat = pulp.LpInteger)\n",
    "B = pulp.LpVariable(\"B\", 0, cat = pulp.LpInteger)\n",
    "C = pulp.LpVariable(\"C\", 0, cat = pulp.LpInteger)\n",
    "# equacoes e inequacoes\n",
    "lucro += 13 * C1 + 15.3 * C2 + 14.6 * C3 + 14.9 * C4 - (16.2 * A + 15.75 * B + 15.3 * C), \"lucro total\" # funcao objetivo\n",
    "# restricoes\n",
    "lucro += ( C1 - 15 * 1e-2 * A <= 0 , \"Blend C1 em A\")\n",
    "lucro += ( - C2  + 40 * 1e-2 * A <= 0 , \"Blend C2 em A\")\n",
    "lucro += ( C3 - 50 * 1e-2 * A <= 0 , \"Blend C3 em A\")\n",
    "lucro += ( C1 - 10 * B <= 0 , \"Blend C1 em B\")\n",
    "lucro += ( - C2 + 10 * 1e-2 * B <= 0 , \"Blend C2 em B\")\n",
    "lucro += ( C1 - 20 * 1e-2 * C <= 0 , \"Blend C1 em C\")\n",
    "lucro += (C1 + C2 + C3 + C4 - (A + B + C) == 0, \"conservacao de massa\")\n",
    "\n",
    "lucro.writeLP(\"Questao4b\")\n",
    "lucro.solve()\n",
    "print(\"Status:\", pulp.LpStatus[lucro.status])\n",
    "for v in lucro.variables():\n",
    "    print(v.name, \"=\", v.varValue)\n",
    "print(\"lucro total = \", - pulp.value(lucro.objective))"
   ]
  }
 ],
 "metadata": {
  "kernelspec": {
   "display_name": "Python 3",
   "language": "python",
   "name": "python3"
  },
  "language_info": {
   "codemirror_mode": {
    "name": "ipython",
    "version": 3
   },
   "file_extension": ".py",
   "mimetype": "text/x-python",
   "name": "python",
   "nbconvert_exporter": "python",
   "pygments_lexer": "ipython3",
   "version": "3.11.5"
  }
 },
 "nbformat": 4,
 "nbformat_minor": 2
}
